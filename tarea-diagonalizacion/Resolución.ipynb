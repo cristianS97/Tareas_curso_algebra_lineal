{
 "cells": [
  {
   "cell_type": "code",
   "execution_count": 1,
   "metadata": {},
   "outputs": [],
   "source": [
    "import numpy as np\n",
    "import sympy as sp"
   ]
  },
  {
   "cell_type": "markdown",
   "metadata": {},
   "source": [
    "# Pregunta 1"
   ]
  },
  {
   "cell_type": "code",
   "execution_count": 2,
   "metadata": {},
   "outputs": [],
   "source": [
    "lamda = sp.symbols('lamda')"
   ]
  },
  {
   "cell_type": "code",
   "execution_count": 3,
   "metadata": {},
   "outputs": [
    {
     "name": "stdout",
     "output_type": "stream",
     "text": [
      "Polinomio característico: (lamda - 2)*(lamda + 1)*(lamda**2 + lamda - 1)\n",
      "Valor: 2 Multiplicidad algebraica: 1\n",
      "Valor: -1 Multiplicidad algebraica: 1\n",
      "Valor: -sqrt(5)/2 - 1/2 Multiplicidad algebraica: 1\n",
      "Valor: -1/2 + sqrt(5)/2 Multiplicidad algebraica: 1\n",
      "Valor: -1, Multiplicidad geométrica: 1, Vectores propios: [Matrix([\n",
      "[0],\n",
      "[3],\n",
      "[1],\n",
      "[0]])]\n",
      "Valor: 2, Multiplicidad geométrica: 1, Vectores propios: [Matrix([\n",
      "[0],\n",
      "[0],\n",
      "[1],\n",
      "[0]])]\n",
      "Valor: -1/2 + sqrt(5)/2, Multiplicidad geométrica: 1, Vectores propios: [Matrix([\n",
      "[                                                        -1/(3/2 - sqrt(5)/2)],\n",
      "[                  -(-7/2 + sqrt(5)/2)/((3/2 - sqrt(5)/2)*(-sqrt(5)/2 - 1/2))],\n",
      "[-(-7/2 + sqrt(5)/2)/((3/2 - sqrt(5)/2)*(5/2 - sqrt(5)/2)*(-sqrt(5)/2 - 1/2))],\n",
      "[                                                                           1]])]\n",
      "Valor: -sqrt(5)/2 - 1/2, Multiplicidad geométrica: 1, Vectores propios: [Matrix([\n",
      "[                                                        -1/(sqrt(5)/2 + 3/2)],\n",
      "[                  -(-7/2 - sqrt(5)/2)/((-1/2 + sqrt(5)/2)*(sqrt(5)/2 + 3/2))],\n",
      "[-(-7/2 - sqrt(5)/2)/((-1/2 + sqrt(5)/2)*(sqrt(5)/2 + 3/2)*(sqrt(5)/2 + 5/2))],\n",
      "[                                                                           1]])]\n"
     ]
    }
   ],
   "source": [
    "M = sp.Matrix([[1,0,0,1],[2,-1,0,-1],[0,-1,2,0],[-1,0,0,-2]])\n",
    "p = M.charpoly(lamda)\n",
    "\n",
    "print(f'Polinomio característico: {sp.factor(p.as_expr())}')\n",
    "\n",
    "vals = M.eigenvals()\n",
    "\n",
    "for k,v in vals.items():\n",
    "    print(f'Valor: {k} Multiplicidad algebraica: {v}')\n",
    "\n",
    "for v in M.eigenvects():\n",
    "    val, mul, vecs = v\n",
    "    print(f'Valor: {val}, Multiplicidad geométrica: {mul}, Vectores propios: {vecs}')"
   ]
  },
  {
   "cell_type": "markdown",
   "metadata": {},
   "source": [
    "# Pregunta 2"
   ]
  },
  {
   "cell_type": "code",
   "execution_count": 4,
   "metadata": {},
   "outputs": [
    {
     "name": "stdout",
     "output_type": "stream",
     "text": [
      "True\n",
      "True\n",
      "True\n"
     ]
    }
   ],
   "source": [
    "A = sp.Matrix([(1,1,3), (0,2,0), (-2,0,3)])\n",
    "B = sp.Matrix([(1,2,0), (2,-1,5), (0,5,1)])\n",
    "C = sp.Matrix([(1,1,3), (0,2,0), (-2,0,3)])\n",
    "\n",
    "print(A.is_diagonalizable())\n",
    "print(B.is_diagonalizable())\n",
    "print(C.is_diagonalizable())"
   ]
  },
  {
   "cell_type": "markdown",
   "metadata": {},
   "source": [
    "# Pregunta 4"
   ]
  },
  {
   "cell_type": "code",
   "execution_count": 8,
   "metadata": {},
   "outputs": [
    {
     "name": "stdout",
     "output_type": "stream",
     "text": [
      "Polinomio característico: (lamda - 2)*(lamda + 1)*(lamda**2 - 3*lamda + 3)\n",
      "Valores propios: dict_keys([2, -1, 3/2 - sqrt(3)*I/2, 3/2 + sqrt(3)*I/2])\n",
      "\n",
      "Matrix([[0, 0, 1/2 + sqrt(3)*I/2, 1/2 - sqrt(3)*I/2], [3, 0, -3/14 + 5*sqrt(3)*I/14, -3/14 - 5*sqrt(3)*I/14], [1, 1, 3/7 + 2*sqrt(3)*I/7, 3/7 - 2*sqrt(3)*I/7], [0, 0, 1, 1]])\n",
      "\n",
      "Matrix([[-1, 0, 0, 0], [0, 2, 0, 0], [0, 0, 3/2 - sqrt(3)*I/2, 0], [0, 0, 0, 3/2 + sqrt(3)*I/2]])\n"
     ]
    }
   ],
   "source": [
    "A = sp.Matrix([(1,0,0,1), (2,-1,0,-1), (0,-1,2,0), (-1,0,0,2)])\n",
    "p = A.charpoly(lamda)\n",
    "\n",
    "print(f'Polinomio característico: {sp.factor(p.as_expr())}')\n",
    "print(f'Valores propios: {A.eigenvals().keys()}')\n",
    "print()\n",
    "\n",
    "if A.is_diagonalizable():\n",
    "    P, D = A.diagonalize()\n",
    "    print(P)\n",
    "    print()\n",
    "    print(D)"
   ]
  },
  {
   "cell_type": "markdown",
   "metadata": {},
   "source": [
    "# Pregunta 5"
   ]
  },
  {
   "cell_type": "code",
   "execution_count": 9,
   "metadata": {},
   "outputs": [
    {
     "name": "stdout",
     "output_type": "stream",
     "text": [
      "Valor: -1 Multiplicidad algebraica: 1\n",
      "Valor: 2 Multiplicidad algebraica: 2\n",
      "\n",
      "Valor: -1, Multiplicidad geométrica: 1, Vectores propios: [Matrix([\n",
      "[1],\n",
      "[1],\n",
      "[1]])]\n",
      "Subespacio generado: [Matrix([\n",
      "[1],\n",
      "[1],\n",
      "[1]])]\n",
      "Valor: 2, Multiplicidad geométrica: 2, Vectores propios: [Matrix([\n",
      "[-1],\n",
      "[ 1],\n",
      "[ 0]]), Matrix([\n",
      "[-1],\n",
      "[ 0],\n",
      "[ 1]])]\n",
      "Subespacio generado: [Matrix([\n",
      "[-1],\n",
      "[ 1],\n",
      "[ 0]]), Matrix([\n",
      "[-1],\n",
      "[ 0],\n",
      "[ 1]])]\n",
      "\n",
      "Diagonalización:\n",
      "Matrix([[1, -1, -1], [1, 1, 0], [1, 0, 1]])\n",
      "Matrix([[-1, 0, 0], [0, 2, 0], [0, 0, 2]])\n"
     ]
    }
   ],
   "source": [
    "A = sp.Matrix([(1,-1,-1), (-1,1,-1), (-1,-1,1)])\n",
    "\n",
    "for k,v in A.eigenvals().items():\n",
    "    print(f'Valor: {k} Multiplicidad algebraica: {v}')\n",
    "\n",
    "print()\n",
    "\n",
    "for v in A.eigenvects():\n",
    "    val, mul, vecs = v\n",
    "    print(f'Valor: {val}, Multiplicidad geométrica: {mul}, Vectores propios: {vecs}')\n",
    "    print(f'Subespacio generado: {vecs}')\n",
    "\n",
    "print()\n",
    "\n",
    "if A.is_diagonalizable():\n",
    "    P, D = A.diagonalize()\n",
    "    print('Diagonalización:')\n",
    "    print(P)\n",
    "    print(D)"
   ]
  },
  {
   "cell_type": "markdown",
   "metadata": {},
   "source": [
    "# Pregunta 7"
   ]
  },
  {
   "cell_type": "code",
   "execution_count": 12,
   "metadata": {},
   "outputs": [
    {
     "name": "stdout",
     "output_type": "stream",
     "text": [
      "(Matrix([\n",
      "[1, 0, 0],\n",
      "[0, 1, 0],\n",
      "[0, 0, 1]]), (0, 1, 2))\n",
      "\n",
      "Base R3:\n"
     ]
    },
    {
     "data": {
      "text/plain": [
       "(Matrix([\n",
       " [1],\n",
       " [1],\n",
       " [0]]), Matrix([\n",
       " [-1],\n",
       " [ 0],\n",
       " [ 1]]), Matrix([\n",
       " [1],\n",
       " [0],\n",
       " [1]]))"
      ]
     },
     "execution_count": 12,
     "metadata": {},
     "output_type": "execute_result"
    }
   ],
   "source": [
    "A = sp.Matrix([(3,-1,1), (0,2,0), (1,-1,3)])\n",
    "P, D = A.diagonalize()\n",
    "\n",
    "print(P.T.rref())\n",
    "\n",
    "print('\\nBase R3:')\n",
    "\n",
    "P[:,0], P[:,1], P[:,2]"
   ]
  },
  {
   "cell_type": "markdown",
   "metadata": {},
   "source": [
    "# Pregunta 8"
   ]
  },
  {
   "cell_type": "code",
   "execution_count": 13,
   "metadata": {},
   "outputs": [
    {
     "data": {
      "text/plain": [
       "True"
      ]
     },
     "execution_count": 13,
     "metadata": {},
     "output_type": "execute_result"
    }
   ],
   "source": [
    "alpha = sp.symbols('alpha')\n",
    "A = sp.Matrix([(1,-4,-0), (0,4*alpha,0), (0,0,3)])\n",
    "\n",
    "A.eigenvals()\n",
    "sp.solve(sp.Eq(4*alpha-1))\n",
    "sp.solve(sp.Eq(4*alpha-3))\n",
    "\n",
    "A.replace(4*alpha, 1).is_diagonalizable()\n",
    "A.replace(4*alpha, 3).is_diagonalizable()"
   ]
  },
  {
   "cell_type": "markdown",
   "metadata": {},
   "source": [
    "# Pregunta 9"
   ]
  },
  {
   "cell_type": "code",
   "execution_count": 15,
   "metadata": {},
   "outputs": [
    {
     "name": "stdout",
     "output_type": "stream",
     "text": [
      "{alpha: 1, -1: 1, 1: 1}\n",
      "\n",
      "-(alpha - lamda)*(lamda - 1)*(lamda + 1)\n",
      "\n",
      "True\n",
      "\n",
      "False\n"
     ]
    }
   ],
   "source": [
    "alpha = sp.symbols('alpha')\n",
    "A = sp.Matrix([(alpha, 2,0), (0,-1,0), (0,0,1)])\n",
    "\n",
    "print(A.eigenvals())\n",
    "print()\n",
    "print(sp.factor(A.charpoly(lamda).as_expr()))\n",
    "print()\n",
    "print(A.replace(alpha, 1).is_diagonalizable())\n",
    "print()\n",
    "print(A.replace(alpha, -1).is_diagonalizable())"
   ]
  },
  {
   "cell_type": "code",
   "execution_count": null,
   "metadata": {},
   "outputs": [],
   "source": []
  }
 ],
 "metadata": {
  "kernelspec": {
   "display_name": "Python 3",
   "language": "python",
   "name": "python3"
  },
  "language_info": {
   "codemirror_mode": {
    "name": "ipython",
    "version": 3
   },
   "file_extension": ".py",
   "mimetype": "text/x-python",
   "name": "python",
   "nbconvert_exporter": "python",
   "pygments_lexer": "ipython3",
   "version": "3.7.4"
  }
 },
 "nbformat": 4,
 "nbformat_minor": 2
}
