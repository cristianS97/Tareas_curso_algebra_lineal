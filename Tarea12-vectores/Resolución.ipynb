{
 "cells": [
  {
   "cell_type": "code",
   "execution_count": 1,
   "metadata": {},
   "outputs": [],
   "source": [
    "import numpy as np"
   ]
  },
  {
   "cell_type": "markdown",
   "metadata": {},
   "source": [
    "# Pregunta 1"
   ]
  },
  {
   "cell_type": "code",
   "execution_count": 2,
   "metadata": {},
   "outputs": [],
   "source": [
    "A = np.array([0,0])\n",
    "puntos = [(4, 2), (2, -6), (-4, 3), (0, 5), (-4, 0), (-3, 5), (0, -3), (4, -3), (2, 5), (-7, -3)]"
   ]
  },
  {
   "cell_type": "code",
   "execution_count": 15,
   "metadata": {
    "scrolled": true
   },
   "outputs": [
    {
     "name": "stdout",
     "output_type": "stream",
     "text": [
      "Vector 0 - [4 2]\n",
      "Módulo: 4.4721\n",
      "Sentido: 26.5651\n",
      "------------------------------\n",
      "Vector 1 - [ 2 -6]\n",
      "Módulo: 6.3246\n",
      "Sentido: -71.5651\n",
      "------------------------------\n",
      "Vector 2 - [-4  3]\n",
      "Módulo: 5.0\n",
      "Sentido: 143.1301\n",
      "------------------------------\n",
      "Vector 3 - [0 5]\n",
      "Módulo: 5.0\n",
      "Sentido: 90.0\n",
      "------------------------------\n",
      "Vector 4 - [-4  0]\n",
      "Módulo: 4.0\n",
      "Sentido: 180.0\n",
      "------------------------------\n",
      "Vector 5 - [-3  5]\n",
      "Módulo: 5.831\n",
      "Sentido: 120.9638\n",
      "------------------------------\n",
      "Vector 6 - [ 0 -3]\n",
      "Módulo: 3.0\n",
      "Sentido: -90.0\n",
      "------------------------------\n",
      "Vector 7 - [ 4 -3]\n",
      "Módulo: 5.0\n",
      "Sentido: -36.8699\n",
      "------------------------------\n",
      "Vector 8 - [2 5]\n",
      "Módulo: 5.3852\n",
      "Sentido: 68.1986\n",
      "------------------------------\n",
      "Vector 9 - [-7 -3]\n",
      "Módulo: 7.6158\n",
      "Sentido: -156.8014\n",
      "------------------------------\n"
     ]
    }
   ],
   "source": [
    "for i, punto in enumerate(puntos):\n",
    "    AB = np.array(punto) - A\n",
    "    print(f'Vector {i} - {AB}')\n",
    "    \n",
    "    x, y = AB\n",
    "    \n",
    "    print(f\"Módulo: {round(np.linalg.norm(AB), 4)}\")\n",
    "    print(f\"Sentido: {round(np.degrees(np.arctan2(y, x)), 4)}\")\n",
    "    print('-'*30)"
   ]
  },
  {
   "cell_type": "markdown",
   "metadata": {},
   "source": [
    "# Pregunta 2"
   ]
  },
  {
   "cell_type": "code",
   "execution_count": 16,
   "metadata": {},
   "outputs": [
    {
     "name": "stdout",
     "output_type": "stream",
     "text": [
      "Vector 0\n",
      "Módulo: 3.1623\n",
      "Sentido: 71.5651\n",
      "------------------------------\n",
      "Vector 1\n",
      "Módulo: 8.544\n",
      "Sentido: -69.444\n",
      "------------------------------\n",
      "Vector 2\n",
      "Módulo: 3.1623\n",
      "Sentido: -108.4349\n",
      "------------------------------\n"
     ]
    }
   ],
   "source": [
    "vectores = (\n",
    "    [(1,2), (2,5)], \n",
    "    [(-8,2), (-5,-6)], \n",
    "    [(2,-2), (1, -5)]\n",
    "    )\n",
    "for i, points_pair in enumerate(vectores):\n",
    "    a, b = points_pair\n",
    "    AB = np.array(b) - np.array(a)\n",
    "    print(f'Vector {i}')\n",
    "    x, y = AB\n",
    "    \n",
    "    print(f\"Módulo: {round(np.linalg.norm(AB), 4)}\")\n",
    "    print(f\"Sentido: {round(np.degrees(np.arctan2(y, x)), 4)}\")\n",
    "    print('-'*30)"
   ]
  },
  {
   "cell_type": "markdown",
   "metadata": {},
   "source": [
    "# Pregunta 6"
   ]
  },
  {
   "cell_type": "code",
   "execution_count": 18,
   "metadata": {
    "scrolled": true
   },
   "outputs": [
    {
     "name": "stdout",
     "output_type": "stream",
     "text": [
      "0.3333333333333333\n",
      "-0.6\n",
      "0.3333333333333333\n"
     ]
    }
   ],
   "source": [
    "A = np.array([1,2,3])\n",
    "B = np.array([0,-1,2])\n",
    "C = np.array([-2,7,0])\n",
    "\n",
    "# Método 1: Comprobar proporcionalidad entre sus coordenadas\n",
    "\n",
    "AB = B - A\n",
    "AC = C - A\n",
    "\n",
    "print(AB[0] / AC[0])\n",
    "print(AB[1] / AC[1])\n",
    "print(AB[2] / AC[2])"
   ]
  },
  {
   "cell_type": "markdown",
   "metadata": {},
   "source": [
    "No hay proporcionalidad entre sus componentes, por lo que no estan alineados"
   ]
  },
  {
   "cell_type": "code",
   "execution_count": 19,
   "metadata": {},
   "outputs": [
    {
     "name": "stdout",
     "output_type": "stream",
     "text": [
      "False\n",
      "True\n"
     ]
    }
   ],
   "source": [
    "# Método 2: Comprobar que el determinate es 0 y el rango es 2\n",
    "\n",
    "M = np.array([AB, AC])\n",
    "N = np.array([AB[:2], AC[:2]])\n",
    "\n",
    "print(np.linalg.det(N) == 0)\n",
    "print(np.linalg.matrix_rank(M) == 2)"
   ]
  },
  {
   "cell_type": "markdown",
   "metadata": {},
   "source": [
    "Como se puede ver no estan alineados ya que el determinante es diferente de 0."
   ]
  },
  {
   "cell_type": "markdown",
   "metadata": {},
   "source": [
    "# Pregunta 7"
   ]
  },
  {
   "cell_type": "code",
   "execution_count": 20,
   "metadata": {},
   "outputs": [
    {
     "data": {
      "text/plain": [
       "array([-1.,  2., -1.])"
      ]
     },
     "execution_count": 20,
     "metadata": {},
     "output_type": "execute_result"
    }
   ],
   "source": [
    "A = np.array([2, 0, -4])\n",
    "B = np.array([-4, 4, 2])\n",
    "medio = (A + B) / 2\n",
    "medio"
   ]
  },
  {
   "cell_type": "markdown",
   "metadata": {},
   "source": [
    "# Pregunta 8"
   ]
  },
  {
   "cell_type": "code",
   "execution_count": 21,
   "metadata": {},
   "outputs": [
    {
     "data": {
      "text/plain": [
       "(array([-0.    ,  1.3333, -2.    ]), array([-2.    ,  2.6666,  0.    ]))"
      ]
     },
     "execution_count": 21,
     "metadata": {},
     "output_type": "execute_result"
    }
   ],
   "source": [
    "A = np.array([2, 0, -4])\n",
    "B = np.array([-4, 4, 2])\n",
    "AB = B - A\n",
    "\n",
    "norma = np.linalg.norm(AB)\n",
    "unitario = AB / norma\n",
    "\n",
    "M = (norma / 3) * unitario\n",
    "\n",
    "t1 = np.round(A + M, 4)\n",
    "t2 = np.round(t1 + M, 4)\n",
    "\n",
    "t1, t2"
   ]
  },
  {
   "cell_type": "markdown",
   "metadata": {},
   "source": [
    "# Pregunta 10"
   ]
  },
  {
   "cell_type": "code",
   "execution_count": 22,
   "metadata": {},
   "outputs": [
    {
     "name": "stdout",
     "output_type": "stream",
     "text": [
      "True\n",
      "True\n",
      "-23.999999999999993\n"
     ]
    },
    {
     "data": {
      "text/plain": [
       "array([ 1.        , -0.33333333, -0.        ])"
      ]
     },
     "execution_count": 22,
     "metadata": {},
     "output_type": "execute_result"
    }
   ],
   "source": [
    "u = np.array([1, 2, 1])\n",
    "v = np.array([1, 2, 2])\n",
    "w = np.array([0, 0, 3])\n",
    "z = np.array([-2, 4, 3])\n",
    "\n",
    "M = np.array([v, w, z]).T\n",
    "MA = np.c_[M, u]\n",
    "M_rank = np.linalg.matrix_rank(M)\n",
    "MA_rank = np.linalg.matrix_rank(MA)\n",
    "\n",
    "print(M_rank == MA_rank)\n",
    "print(M_rank == 3)\n",
    "\n",
    "print(np.linalg.det(M))\n",
    "\n",
    "x = np.linalg.solve(M, u)\n",
    "x"
   ]
  },
  {
   "cell_type": "code",
   "execution_count": null,
   "metadata": {},
   "outputs": [],
   "source": []
  },
  {
   "cell_type": "code",
   "execution_count": null,
   "metadata": {},
   "outputs": [],
   "source": []
  },
  {
   "cell_type": "code",
   "execution_count": null,
   "metadata": {},
   "outputs": [],
   "source": []
  },
  {
   "cell_type": "code",
   "execution_count": null,
   "metadata": {},
   "outputs": [],
   "source": []
  },
  {
   "cell_type": "code",
   "execution_count": null,
   "metadata": {},
   "outputs": [],
   "source": []
  }
 ],
 "metadata": {
  "kernelspec": {
   "display_name": "Python 3",
   "language": "python",
   "name": "python3"
  },
  "language_info": {
   "codemirror_mode": {
    "name": "ipython",
    "version": 3
   },
   "file_extension": ".py",
   "mimetype": "text/x-python",
   "name": "python",
   "nbconvert_exporter": "python",
   "pygments_lexer": "ipython3",
   "version": "3.7.4"
  }
 },
 "nbformat": 4,
 "nbformat_minor": 2
}
